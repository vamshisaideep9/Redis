{
 "cells": [
  {
   "cell_type": "code",
   "execution_count": 27,
   "metadata": {},
   "outputs": [
    {
     "name": "stdout",
     "output_type": "stream",
     "text": [
      "connected to Redis!\n"
     ]
    }
   ],
   "source": [
    "import redis\n",
    "\n",
    "r = redis.Redis(host=\"localhost\", port=6379, db=0)\n",
    "\n",
    "if r.ping():\n",
    "    print(\"connected to Redis!\")"
   ]
  },
  {
   "cell_type": "markdown",
   "metadata": {},
   "source": [
    "### SET and GET data"
   ]
  },
  {
   "cell_type": "code",
   "execution_count": 28,
   "metadata": {},
   "outputs": [
    {
     "name": "stdout",
     "output_type": "stream",
     "text": [
      "The value of 'name' is: John Doe\n"
     ]
    }
   ],
   "source": [
    "r.set('name', 'John Doe')\n",
    "name = r.get('name')\n",
    "\n",
    "#Decode the value from bytes to string\n",
    "print(f\"The value of 'name' is: {name.decode('utf-8')}\")"
   ]
  },
  {
   "cell_type": "markdown",
   "metadata": {},
   "source": [
    "### SET Data with Expiry (TTL)"
   ]
  },
  {
   "cell_type": "code",
   "execution_count": 29,
   "metadata": {},
   "outputs": [
    {
     "name": "stdout",
     "output_type": "stream",
     "text": [
      "Temp Key: Temporary Value\n",
      "Temp Key after expiration: None\n"
     ]
    }
   ],
   "source": [
    "# set a key with a TTL of 10 seconds\n",
    "r.set('temp_key', 'Temporary Value', ex=10)\n",
    "\n",
    "temp_value = r.get('temp_key')\n",
    "print(f\"Temp Key: {temp_value.decode('utf-8')}\")\n",
    "\n",
    "#wat 10 seconds and try to get the key again\n",
    "import time\n",
    "time.sleep(10)\n",
    "expired_value = r.get('temp_key')\n",
    "\n",
    "print(f\"Temp Key after expiration: {expired_value}\")"
   ]
  },
  {
   "cell_type": "markdown",
   "metadata": {},
   "source": [
    "### Set Multiple keys and Get Them"
   ]
  },
  {
   "cell_type": "code",
   "execution_count": 30,
   "metadata": {},
   "outputs": [
    {
     "name": "stdout",
     "output_type": "stream",
     "text": [
      "['value1', 'value2', 'value3']\n"
     ]
    }
   ],
   "source": [
    "r.mset({'key1':'value1', 'key2':'value2', 'key3':'value3'})\n",
    "\n",
    "values = r.mget('key1', 'key2', 'key3')\n",
    "\n",
    "print([val.decode('utf-8') for val in values])"
   ]
  },
  {
   "cell_type": "markdown",
   "metadata": {},
   "source": [
    "### Check Key Existence"
   ]
  },
  {
   "cell_type": "code",
   "execution_count": 31,
   "metadata": {},
   "outputs": [
    {
     "name": "stdout",
     "output_type": "stream",
     "text": [
      "The key 'name' exists.\n"
     ]
    }
   ],
   "source": [
    "if r.exists('name'):\n",
    "    print(\"The key 'name' exists.\")\n",
    "else:\n",
    "    print(\"The Key 'name' doesnot exist\" )"
   ]
  },
  {
   "cell_type": "markdown",
   "metadata": {},
   "source": [
    "### 2. Hashes"
   ]
  },
  {
   "cell_type": "markdown",
   "metadata": {},
   "source": [
    "### Setting Hash Fields"
   ]
  },
  {
   "cell_type": "code",
   "execution_count": 32,
   "metadata": {},
   "outputs": [
    {
     "name": "stdout",
     "output_type": "stream",
     "text": [
      "Hash Table set successfully\n"
     ]
    }
   ],
   "source": [
    "import redis\n",
    "\n",
    "r = redis.Redis(host=\"localhost\", port=6379, db=0)\n",
    "\n",
    "r.hset('user:1', 'name', 'Alice')\n",
    "r.hset('user:1', 'age', 22)\n",
    "r.hset('user:1', 'email', 'alice@example.com')\n",
    "\n",
    "print(\"Hash Table set successfully\")"
   ]
  },
  {
   "cell_type": "markdown",
   "metadata": {},
   "source": [
    "### Getting Hash Fields"
   ]
  },
  {
   "cell_type": "code",
   "execution_count": 33,
   "metadata": {},
   "outputs": [
    {
     "name": "stdout",
     "output_type": "stream",
     "text": [
      "Name: Alice\n"
     ]
    }
   ],
   "source": [
    "name = r.hget('user:1', 'name')\n",
    "print(f'Name: {name.decode('utf-8')}')"
   ]
  },
  {
   "cell_type": "markdown",
   "metadata": {},
   "source": [
    "### Get all Fields and values"
   ]
  },
  {
   "cell_type": "code",
   "execution_count": 34,
   "metadata": {},
   "outputs": [
    {
     "name": "stdout",
     "output_type": "stream",
     "text": [
      "name: Alice\n",
      "age: 22\n",
      "email: alice@example.com\n"
     ]
    }
   ],
   "source": [
    "user_data = r.hgetall('user:1')\n",
    "for key, value in user_data.items():\n",
    "    print(f\"{key.decode('utf-8')}: {value.decode('utf-8')}\")"
   ]
  },
  {
   "cell_type": "markdown",
   "metadata": {},
   "source": [
    "### Updating Fields in Hash"
   ]
  },
  {
   "cell_type": "code",
   "execution_count": 35,
   "metadata": {},
   "outputs": [
    {
     "name": "stdout",
     "output_type": "stream",
     "text": [
      "{'20'}\n"
     ]
    }
   ],
   "source": [
    "r.hset('user:1', 'age', 20)\n",
    "updated_age = r.hget('user:1', 'age')\n",
    "print({updated_age.decode('utf-8')})"
   ]
  },
  {
   "cell_type": "markdown",
   "metadata": {},
   "source": [
    "### Deleting a Field"
   ]
  },
  {
   "cell_type": "code",
   "execution_count": 36,
   "metadata": {},
   "outputs": [
    {
     "name": "stdout",
     "output_type": "stream",
     "text": [
      "Email Field deleted\n"
     ]
    }
   ],
   "source": [
    "r.hdel('user:1', 'email')\n",
    "print(\"Email Field deleted\")"
   ]
  },
  {
   "cell_type": "markdown",
   "metadata": {},
   "source": [
    "### Checking if a field exists"
   ]
  },
  {
   "cell_type": "code",
   "execution_count": 37,
   "metadata": {},
   "outputs": [
    {
     "name": "stdout",
     "output_type": "stream",
     "text": [
      "Doesnt exist\n"
     ]
    }
   ],
   "source": [
    "if r.hexists('user:1', 'email'):\n",
    "    print(\"Exists!\")\n",
    "else:\n",
    "    print(\"Doesnt exist\")"
   ]
  },
  {
   "cell_type": "markdown",
   "metadata": {},
   "source": [
    "### Getting length"
   ]
  },
  {
   "cell_type": "code",
   "execution_count": 38,
   "metadata": {},
   "outputs": [
    {
     "name": "stdout",
     "output_type": "stream",
     "text": [
      "{2}\n"
     ]
    }
   ],
   "source": [
    "fields_count = r.hlen('user:1')\n",
    "print({fields_count})"
   ]
  },
  {
   "cell_type": "markdown",
   "metadata": {},
   "source": [
    "### Incrementing numeric fields"
   ]
  },
  {
   "cell_type": "code",
   "execution_count": 39,
   "metadata": {},
   "outputs": [
    {
     "name": "stdout",
     "output_type": "stream",
     "text": [
      "{'21'}\n"
     ]
    }
   ],
   "source": [
    "r.hincrby('user:1', 'age', 1)  ## r.hincrbyfloat\n",
    "new_age = r.hget('user:1', 'age')\n",
    "print({new_age.decode('utf-8')})"
   ]
  },
  {
   "cell_type": "markdown",
   "metadata": {},
   "source": [
    "### 3. Lists"
   ]
  },
  {
   "cell_type": "code",
   "execution_count": 40,
   "metadata": {},
   "outputs": [],
   "source": [
    "r = redis.Redis(host='localhost', port=6379, db=0)\n"
   ]
  },
  {
   "cell_type": "markdown",
   "metadata": {},
   "source": [
    "### Adding items to a List"
   ]
  },
  {
   "cell_type": "code",
   "execution_count": 41,
   "metadata": {},
   "outputs": [
    {
     "name": "stdout",
     "output_type": "stream",
     "text": [
      "Tasks after rpush: [b'task1', b'task1', b'task2', b'task3', b'task1', b'task2', b'task2', b'task3', b'task1', b'task2', b'task3']\n",
      "tasks after lpush: [b'task0', b'task1', b'task1', b'task2', b'task3', b'task1', b'task2', b'task2', b'task3', b'task1', b'task2', b'task3']\n"
     ]
    }
   ],
   "source": [
    "r.rpush('tasks', 'task1', 'task2', 'task3')\n",
    "print(\"Tasks after rpush:\", r.lrange('tasks', 0, -1))\n",
    "\n",
    "r.lpush('tasks', 'task0')\n",
    "print(\"tasks after lpush:\", r.lrange('tasks', 0, -1))"
   ]
  },
  {
   "cell_type": "markdown",
   "metadata": {},
   "source": [
    "### Retrieve all items"
   ]
  },
  {
   "cell_type": "code",
   "execution_count": 42,
   "metadata": {},
   "outputs": [
    {
     "name": "stdout",
     "output_type": "stream",
     "text": [
      "['task0', 'task1', 'task1', 'task2', 'task3', 'task1', 'task2', 'task2', 'task3', 'task1', 'task2', 'task3']\n"
     ]
    }
   ],
   "source": [
    "tasks = r.lrange('tasks', 0, -1)\n",
    "print([task.decode('utf-8') for task in tasks])"
   ]
  },
  {
   "cell_type": "markdown",
   "metadata": {},
   "source": [
    "### Retrieve by index"
   ]
  },
  {
   "cell_type": "code",
   "execution_count": 43,
   "metadata": {},
   "outputs": [
    {
     "name": "stdout",
     "output_type": "stream",
     "text": [
      "task1\n"
     ]
    }
   ],
   "source": [
    "task = r.lindex('tasks', 1)\n",
    "print(task.decode('utf-8'))"
   ]
  },
  {
   "cell_type": "markdown",
   "metadata": {},
   "source": [
    "### Pop items"
   ]
  },
  {
   "cell_type": "code",
   "execution_count": 44,
   "metadata": {},
   "outputs": [
    {
     "name": "stdout",
     "output_type": "stream",
     "text": [
      "{'task0'}\n",
      "{'task3'}\n"
     ]
    }
   ],
   "source": [
    "left_item = r.lpop('tasks')\n",
    "right_item = r.rpop('tasks')\n",
    "\n",
    "print({left_item.decode('utf-8')})\n",
    "print({right_item.decode('utf-8')})"
   ]
  },
  {
   "cell_type": "markdown",
   "metadata": {},
   "source": [
    "### Removing specific items"
   ]
  },
  {
   "cell_type": "code",
   "execution_count": 46,
   "metadata": {},
   "outputs": [
    {
     "name": "stdout",
     "output_type": "stream",
     "text": [
      "Tasks after lrem: [b'task1', b'task2', b'task3']\n"
     ]
    }
   ],
   "source": [
    "r.rpush('tasks2', 'task1', 'task2', 'task2', 'task3')\n",
    "r.lrem('tasks2', 1, 'task2') # Remove one occurrence of task2\n",
    "print('Tasks after lrem:', r.lrange('tasks2',0,-1))"
   ]
  },
  {
   "cell_type": "markdown",
   "metadata": {},
   "source": [
    "### Get the length of the List"
   ]
  },
  {
   "cell_type": "code",
   "execution_count": 47,
   "metadata": {},
   "outputs": [
    {
     "name": "stdout",
     "output_type": "stream",
     "text": [
      "13\n"
     ]
    }
   ],
   "source": [
    "length = r.llen('tasks')\n",
    "print(length)"
   ]
  },
  {
   "cell_type": "markdown",
   "metadata": {},
   "source": [
    "### 4. Sets"
   ]
  },
  {
   "cell_type": "code",
   "execution_count": 49,
   "metadata": {},
   "outputs": [
    {
     "name": "stdout",
     "output_type": "stream",
     "text": [
      "{b'orange', b'apple', b'banana'}\n"
     ]
    }
   ],
   "source": [
    "r = redis.Redis(host='localhost', port=6379, db=0)\n",
    "r.sadd('my_set', 'apple', 'banana', 'orange')\n",
    "print(r.smembers('my_set'))"
   ]
  },
  {
   "cell_type": "markdown",
   "metadata": {},
   "source": [
    "### Checking membership"
   ]
  },
  {
   "cell_type": "code",
   "execution_count": 50,
   "metadata": {},
   "outputs": [
    {
     "name": "stdout",
     "output_type": "stream",
     "text": [
      "{1}\n",
      "{0}\n"
     ]
    }
   ],
   "source": [
    "is_member = r.sismember('my_set', 'apple')\n",
    "print({is_member})\n",
    "\n",
    "is_member = r.sismember('my_set', 'grape')\n",
    "print({is_member})"
   ]
  },
  {
   "cell_type": "markdown",
   "metadata": {},
   "source": [
    "### Removing elements"
   ]
  },
  {
   "cell_type": "code",
   "execution_count": 52,
   "metadata": {},
   "outputs": [
    {
     "name": "stdout",
     "output_type": "stream",
     "text": [
      "{b'orange', b'apple'}\n"
     ]
    }
   ],
   "source": [
    "r.srem('my_set', 'banana')\n",
    "\n",
    "print(r.smembers('my_set'))"
   ]
  },
  {
   "cell_type": "markdown",
   "metadata": {},
   "source": [
    "### Get All Members"
   ]
  },
  {
   "cell_type": "code",
   "execution_count": 53,
   "metadata": {},
   "outputs": [
    {
     "name": "stdout",
     "output_type": "stream",
     "text": [
      "Set elements: ['orange', 'apple']\n"
     ]
    }
   ],
   "source": [
    "elements = r.smembers('my_set')\n",
    "print(\"Set elements:\", [e.decode('utf-8') for e in elements])"
   ]
  },
  {
   "cell_type": "markdown",
   "metadata": {},
   "source": [
    "### Set cardinality"
   ]
  },
  {
   "cell_type": "code",
   "execution_count": 54,
   "metadata": {},
   "outputs": [
    {
     "name": "stdout",
     "output_type": "stream",
     "text": [
      "{2}\n"
     ]
    }
   ],
   "source": [
    "size = r.scard('my_set')\n",
    "print({size})"
   ]
  },
  {
   "cell_type": "markdown",
   "metadata": {},
   "source": [
    "### Performing Set operations"
   ]
  },
  {
   "cell_type": "code",
   "execution_count": 55,
   "metadata": {},
   "outputs": [
    {
     "name": "stdout",
     "output_type": "stream",
     "text": [
      "Union: ['grape', 'orange', 'pear', 'apple']\n"
     ]
    }
   ],
   "source": [
    "r.sadd('another_set', 'grape', 'orange', 'pear')\n",
    "\n",
    "union_set = r.sunion('my_set', 'another_set')\n",
    "\n",
    "print(\"Union:\", [e.decode('utf-8') for e in union_set])"
   ]
  },
  {
   "cell_type": "code",
   "execution_count": 56,
   "metadata": {},
   "outputs": [
    {
     "name": "stdout",
     "output_type": "stream",
     "text": [
      "Intersection: ['orange']\n"
     ]
    }
   ],
   "source": [
    "intersection_set = r.sinter('my_set', 'another_set')\n",
    "print(\"Intersection:\", [e.decode('utf-8') for e in intersection_set])"
   ]
  },
  {
   "cell_type": "code",
   "execution_count": 57,
   "metadata": {},
   "outputs": [
    {
     "name": "stdout",
     "output_type": "stream",
     "text": [
      "Difference: ['apple']\n"
     ]
    }
   ],
   "source": [
    "difference_set = r.sdiff('my_set', 'another_set')\n",
    "print(\"Difference:\", [e.decode('utf-8') for e in difference_set])"
   ]
  },
  {
   "cell_type": "markdown",
   "metadata": {},
   "source": [
    "### Random Elements"
   ]
  },
  {
   "cell_type": "code",
   "execution_count": 58,
   "metadata": {},
   "outputs": [
    {
     "name": "stdout",
     "output_type": "stream",
     "text": [
      "Random element: orange\n"
     ]
    }
   ],
   "source": [
    "random_element = r.srandmember('my_set')\n",
    "print(\"Random element:\", random_element.decode('utf-8'))"
   ]
  },
  {
   "cell_type": "code",
   "execution_count": 59,
   "metadata": {},
   "outputs": [
    {
     "name": "stdout",
     "output_type": "stream",
     "text": [
      "Random elements: ['apple', 'orange']\n"
     ]
    }
   ],
   "source": [
    "random_elements = r.srandmember('my_set', 2)\n",
    "print(\"Random elements:\", [e.decode('utf-8') for e in random_elements])"
   ]
  },
  {
   "cell_type": "markdown",
   "metadata": {},
   "source": [
    "### Pop element"
   ]
  },
  {
   "cell_type": "code",
   "execution_count": 60,
   "metadata": {},
   "outputs": [
    {
     "name": "stdout",
     "output_type": "stream",
     "text": [
      "Popped element: apple\n",
      "{b'orange'}\n"
     ]
    }
   ],
   "source": [
    "popped_element = r.spop('my_set')\n",
    "print(\"Popped element:\", popped_element.decode('utf-8'))\n",
    "\n",
    "# Verify the remaining set content\n",
    "print(r.smembers('my_set'))"
   ]
  },
  {
   "cell_type": "markdown",
   "metadata": {},
   "source": [
    "### 5. Publisher and subscriber"
   ]
  },
  {
   "cell_type": "markdown",
   "metadata": {},
   "source": [
    "1. publisher: Send message to a specific channel\n",
    "2. subscriber: Listens to messages on a specific channel"
   ]
  },
  {
   "cell_type": "code",
   "execution_count": 63,
   "metadata": {},
   "outputs": [
    {
     "name": "stdout",
     "output_type": "stream",
     "text": [
      "Listening for messages on 'my_channel'...\n"
     ]
    },
    {
     "data": {
      "text/plain": [
       "<PubSubWorkerThread(Thread-1182, started 7716)>"
      ]
     },
     "execution_count": 63,
     "metadata": {},
     "output_type": "execute_result"
    }
   ],
   "source": [
    "def message_handler(message):\n",
    "    print(f\"Received {message['data']}\")\n",
    "\n",
    "\n",
    "pubsub = r.pubsub()\n",
    "pubsub.subscribe(**{'my_channel': message_handler})\n",
    "\n",
    "print(\"Listening for messages on 'my_channel'...\")\n",
    "pubsub.run_in_thread(sleep_time=0.001)"
   ]
  },
  {
   "cell_type": "code",
   "execution_count": 64,
   "metadata": {},
   "outputs": [
    {
     "name": "stdout",
     "output_type": "stream",
     "text": [
      "Published: Message 1Received b'Message 1'\n",
      "\n",
      "Received b'Message 1'\n",
      "Published: Message 2Received b'Message 2'\n",
      "\n",
      "Received b'Message 2'\n",
      "Published: Message 3Received b'Message 3'\n",
      "\n",
      "Received b'Message 3'\n",
      "Published: Message 4Received b'Message 4'\n",
      "\n",
      "Received b'Message 4'\n",
      "Published: Message 5\n",
      "Received b'Message 5'\n",
      "Received b'Message 5'\n"
     ]
    }
   ],
   "source": [
    "for i in range(5):\n",
    "    message = f'Message {i+1}'\n",
    "    r.publish('my_channel', message)\n",
    "    print(f\"Published: {message}\")\n",
    "    time.sleep(1)"
   ]
  },
  {
   "cell_type": "markdown",
   "metadata": {},
   "source": [
    "### 6. Using Redis for caching"
   ]
  },
  {
   "cell_type": "code",
   "execution_count": 65,
   "metadata": {},
   "outputs": [],
   "source": [
    "cache = redis.Redis(host='localhost', port=6379, db=0)"
   ]
  },
  {
   "cell_type": "markdown",
   "metadata": {},
   "source": [
    "### Store and retrieve cached data"
   ]
  },
  {
   "cell_type": "code",
   "execution_count": 66,
   "metadata": {},
   "outputs": [
    {
     "name": "stdout",
     "output_type": "stream",
     "text": [
      "JohnDoe\n"
     ]
    }
   ],
   "source": [
    "cache.set(\"username:1\", 'JohnDoe')\n",
    "username = cache.get(\"username:1\")\n",
    "print(username.decode('utf-8'))"
   ]
  },
  {
   "cell_type": "markdown",
   "metadata": {},
   "source": [
    "### Set cache with expiration"
   ]
  },
  {
   "cell_type": "code",
   "execution_count": null,
   "metadata": {},
   "outputs": [],
   "source": [
    "cache.setex(\"username:2\", 10, \"janeDoe\")\n",
    "\n",
    "username = cache.get(\"username:2\")\n",
    "print(username.decode('utf-8'))\n",
    "\n",
    "time.sleep(10)\n",
    "print(cache.get(\"username:2\"))"
   ]
  }
 ],
 "metadata": {
  "kernelspec": {
   "display_name": "Python 3",
   "language": "python",
   "name": "python3"
  },
  "language_info": {
   "codemirror_mode": {
    "name": "ipython",
    "version": 3
   },
   "file_extension": ".py",
   "mimetype": "text/x-python",
   "name": "python",
   "nbconvert_exporter": "python",
   "pygments_lexer": "ipython3",
   "version": "3.12.6"
  }
 },
 "nbformat": 4,
 "nbformat_minor": 2
}
