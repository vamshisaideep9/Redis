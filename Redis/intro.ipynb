{
 "cells": [
  {
   "cell_type": "markdown",
   "metadata": {},
   "source": [
    "### What is Redis and what do you use it for?"
   ]
  },
  {
   "cell_type": "markdown",
   "metadata": {},
   "source": [
    "**Redis**(Remote Dictionary server) is an in-memory key-value data store renowned for its performance and versatility. \n",
    "\n",
    "**Common Use-Cases**\n",
    "\n",
    "**1. Caching Layer:** *Redis excels as a cache due to its in-memory nature and quick data retrieval, serving as a data source for web servers, databases, and more.*\n",
    "\n",
    "**2. Session Store:** *It's used to manage user sessions in web applications, ensuring fast access and real-time updates.*\n",
    "\n",
    "**3. Queues:** *Redis lists and blocking operations make it a popular choice for message queues and task management systems.*\n",
    "\n",
    "**4. Analytics:** *Its data structures and atomic operations can aid in real-time analytics and data processing.*\n",
    "\n",
    "\n",
    "**Fundamental Structures**\n",
    "\n",
    "1. Strings\n",
    "2. Lists\n",
    "3. Sets\n",
    "4. Sorted Sets\n",
    "5. Hashes\n",
    "\n",
    "**Internal Architecture**\n",
    "\n",
    "**Caching Strategy:** *Redis employs the LRU (Least Recently Used) algorithm for cache expiration, but allows for more nuanced strategies as well.*"
   ]
  },
  {
   "cell_type": "markdown",
   "metadata": {},
   "source": [
    "### 2. How does Redis store data?"
   ]
  },
  {
   "cell_type": "markdown",
   "metadata": {},
   "source": [
    "Redis, *an in-memory data store, ensures lightning-fast read and write operations by structuring data into types, and each type has unique capabilities.*\n",
    "\n",
    "**String:** *Binary safe strings where each character is stored using eight bits*\n",
    "\n",
    "**Lists:** *Collection of ordered strings. Optimized for high-speed insertions and deletions.*\n",
    "\n",
    "**sets:** *Collection of unordered, distinct strings.*\n",
    "\n",
    "**sorted set:** *Similar to set, but each element has a unique score for sorting.*\n",
    "\n",
    "**Hash:** *A map-like data structure for approximating the unique elements in a set.*\n",
    "\n",
    "**Streams:** *Appends only collection of key-value pairs*"
   ]
  }
 ],
 "metadata": {
  "kernelspec": {
   "display_name": "Python 3",
   "language": "python",
   "name": "python3"
  },
  "language_info": {
   "name": "python",
   "version": "3.12.6"
  }
 },
 "nbformat": 4,
 "nbformat_minor": 2
}
