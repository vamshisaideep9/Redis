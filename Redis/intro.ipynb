{
 "cells": [
  {
   "cell_type": "markdown",
   "metadata": {},
   "source": [
    "### What is Redis and what do you use it for?"
   ]
  },
  {
   "cell_type": "markdown",
   "metadata": {},
   "source": [
    "**Redis**(Remote Dictionary server) is an in-memory key-value data store renowned for its performance and versatility. \n",
    "\n",
    "**Common Use-Cases**\n",
    "\n",
    "**1. Caching Layer:** *Redis excels as a cache due to its in-memory nature and quick data retrieval, serving as a data source for web servers, databases, and more.*\n",
    "\n",
    "**2. Session Store:** *It's used to manage user sessions in web applications, ensuring fast access and real-time updates.*\n",
    "\n",
    "**3. Queues:** *Redis lists and blocking operations make it a popular choice for message queues and task management systems.*\n",
    "\n",
    "**4. Analytics:** *Its data structures and atomic operations can aid in real-time analytics and data processing.*\n",
    "\n",
    "\n",
    "**Fundamental Structures**\n",
    "\n",
    "1. Strings\n",
    "2. Lists\n",
    "3. Sets\n",
    "4. Sorted Sets\n",
    "5. Hashes\n",
    "\n",
    "**Internal Architecture**\n",
    "\n",
    "**Caching Strategy:** *Redis employs the LRU (Least Recently Used) algorithm for cache expiration, but allows for more nuanced strategies as well.*"
   ]
  },
  {
   "cell_type": "markdown",
   "metadata": {},
   "source": [
    "### 2. How does Redis store data?"
   ]
  },
  {
   "cell_type": "markdown",
   "metadata": {},
   "source": [
    "Redis, *an in-memory data store, ensures lightning-fast read and write operations by structuring data into types, and each type has unique capabilities.*\n",
    "\n",
    "**String:** *Binary safe strings where each character is stored using eight bits*\n",
    "\n",
    "**Lists:** *Collection of ordered strings. Optimized for high-speed insertions and deletions.*\n",
    "\n",
    "**sets:** *Collection of unordered, distinct strings.*\n",
    "\n",
    "**sorted set:** *Similar to set, but each element has a unique score for sorting.*\n",
    "\n",
    "**Hash:** *A map-like data structure for approximating the unique elements in a set.*\n",
    "\n",
    "**Streams:** *Appends only collection of key-value pairs*"
   ]
  },
  {
   "cell_type": "markdown",
   "metadata": {},
   "source": [
    "### 3. what is a Redis key and how should you structure it for best performance?\n",
    "\n",
    "*In Redis, a key serves as the primary identifier for data storage. Efficient Key design is crucial for advanced performance.*\n",
    "\n",
    "- *Short and simple keys reduce memory and lookup time*\n",
    "- *Using a consistent prefix reduces redundancy, but excessive repetition can be counterproductive.*"
   ]
  },
  {
   "cell_type": "markdown",
   "metadata": {},
   "source": [
    "### 4. How do you set an expiration on Redis Keys?\n",
    "\n",
    "*Setting an expiration time on Redis Keys is a powerful feature that helps in key management. There are several mechanism tailored for different types of keys.*\n",
    "\n",
    "\n",
    "**Default expiration**\n",
    "\n",
    "```\n",
    "CONFIG SET lazyfree-lazy-eviction-limit 30\n",
    "config set -l\n",
    "```\n",
    "\n",
    "**Individual Key Expirations**\n",
    "\n",
    "*You can configure Redis Keys to expire after a set duration.*\n",
    "\n",
    "```\n",
    "SET Key value EX seconds\n",
    "SETX key seconds value\n",
    "EXPIRE key seconds\n",
    "```\n",
    "\n",
    "\n",
    "**Persistent Expiry with PSETEX**\n",
    "\n",
    "*To set a key with both a value and an expiration in a single step.*\n",
    "\n",
    "```\n",
    "PSETEX key milliseconds value\n",
    "```\n",
    "\n",
    "**Time to live(TTL)**\n",
    "\n",
    "*Check the remaining time to live for a key*\n",
    "\n",
    "```\n",
    "redis> TTL mykey\n",
    "```\n",
    "\n",
    "**Persist/REmove Expiry**\n",
    "\n",
    "*Extend or remove the expiration of a key.*\n",
    "\n",
    "```\n",
    "PERSIST mykey\n",
    "```"
   ]
  },
  {
   "cell_type": "markdown",
   "metadata": {},
   "source": [
    "### 5. SET and GET do in Redis?"
   ]
  },
  {
   "cell_type": "markdown",
   "metadata": {},
   "source": [
    "- **SET:** *Stores a Value, either overwriting an existing key-value or creating a new One.*\n",
    "-  **GET:** *Retrieves the value associated with a given key. If the key doesn't exist, GET returns a null value.*\n",
    "\n",
    "\n",
    "**MSET:** *Sets multiple key-value pairs simultaneously*\n",
    "\n",
    "**GETfoo:** *If you need the value to be returned as a string.*\n",
    "\n",
    "**MGET:** *Retrieves the values of multiple keys in a single operation.*\n",
    "\n"
   ]
  },
  {
   "cell_type": "markdown",
   "metadata": {},
   "source": [
    "### 6. Difference between RDB and AOF persistence strategies in Redis\n",
    "\n",
    "**RDB persistence**\n",
    "\n",
    "RDB, or Redis Database, is designed for periodic backups. It taks snapshots of data at specified intervals and saves them to disk, ensuring quick recoveries after unexpected events.\n",
    "\n",
    "**AOF persistence**\n",
    "\n",
    "AOF, or Append-Only File, aims to provide a comprehensive command history for Redis, making it easier to replay commands and restore the dataset to a particular point-in-time."
   ]
  },
  {
   "cell_type": "markdown",
   "metadata": {},
   "source": [
    "**INCR or HINCRBY:** *To implement a simple counter in redis*"
   ]
  },
  {
   "cell_type": "markdown",
   "metadata": {},
   "source": [
    "```\n",
    "sudo apt update\n",
    "sudo apt install redis-server\n",
    "sudo systemctl start redis-server\n",
    "sudo systemctl enable redis-server\n",
    "```"
   ]
  }
 ],
 "metadata": {
  "kernelspec": {
   "display_name": "Python 3",
   "language": "python",
   "name": "python3"
  },
  "language_info": {
   "name": "python",
   "version": "3.12.6"
  }
 },
 "nbformat": 4,
 "nbformat_minor": 2
}
